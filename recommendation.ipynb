{
 "cells": [
  {
   "cell_type": "code",
   "execution_count": 2,
   "id": "62ac1ac6-cd4f-45d1-9fa7-50a77f55dc81",
   "metadata": {},
   "outputs": [],
   "source": [
    "import numpy as np\n",
    "import pandas as pd"
   ]
  },
  {
   "cell_type": "code",
   "execution_count": 5,
   "id": "f203e6ae-8d35-4844-96dc-1638b2e6a564",
   "metadata": {},
   "outputs": [],
   "source": [
    "df = pd.read_csv('songdata.csv')"
   ]
  },
  {
   "cell_type": "code",
   "execution_count": 6,
   "id": "a9a6e521-b165-4548-a50c-b880b77dc4f3",
   "metadata": {},
   "outputs": [
    {
     "data": {
      "text/html": [
       "<div>\n",
       "<style scoped>\n",
       "    .dataframe tbody tr th:only-of-type {\n",
       "        vertical-align: middle;\n",
       "    }\n",
       "\n",
       "    .dataframe tbody tr th {\n",
       "        vertical-align: top;\n",
       "    }\n",
       "\n",
       "    .dataframe thead th {\n",
       "        text-align: right;\n",
       "    }\n",
       "</style>\n",
       "<table border=\"1\" class=\"dataframe\">\n",
       "  <thead>\n",
       "    <tr style=\"text-align: right;\">\n",
       "      <th></th>\n",
       "      <th>artist</th>\n",
       "      <th>song</th>\n",
       "      <th>link</th>\n",
       "      <th>text</th>\n",
       "    </tr>\n",
       "  </thead>\n",
       "  <tbody>\n",
       "    <tr>\n",
       "      <th>0</th>\n",
       "      <td>ABBA</td>\n",
       "      <td>Ahe's My Kind Of Girl</td>\n",
       "      <td>/a/abba/ahes+my+kind+of+girl_20598417.html</td>\n",
       "      <td>Look at her face, it's a wonderful face  \\nAnd...</td>\n",
       "    </tr>\n",
       "    <tr>\n",
       "      <th>1</th>\n",
       "      <td>ABBA</td>\n",
       "      <td>Andante, Andante</td>\n",
       "      <td>/a/abba/andante+andante_20002708.html</td>\n",
       "      <td>Take it easy with me, please  \\nTouch me gentl...</td>\n",
       "    </tr>\n",
       "    <tr>\n",
       "      <th>2</th>\n",
       "      <td>ABBA</td>\n",
       "      <td>As Good As New</td>\n",
       "      <td>/a/abba/as+good+as+new_20003033.html</td>\n",
       "      <td>I'll never know why I had to go  \\nWhy I had t...</td>\n",
       "    </tr>\n",
       "  </tbody>\n",
       "</table>\n",
       "</div>"
      ],
      "text/plain": [
       "  artist                   song                                        link  \\\n",
       "0   ABBA  Ahe's My Kind Of Girl  /a/abba/ahes+my+kind+of+girl_20598417.html   \n",
       "1   ABBA       Andante, Andante       /a/abba/andante+andante_20002708.html   \n",
       "2   ABBA         As Good As New        /a/abba/as+good+as+new_20003033.html   \n",
       "\n",
       "                                                text  \n",
       "0  Look at her face, it's a wonderful face  \\nAnd...  \n",
       "1  Take it easy with me, please  \\nTouch me gentl...  \n",
       "2  I'll never know why I had to go  \\nWhy I had t...  "
      ]
     },
     "execution_count": 6,
     "metadata": {},
     "output_type": "execute_result"
    }
   ],
   "source": [
    "df.head(3)"
   ]
  },
  {
   "cell_type": "code",
   "execution_count": 7,
   "id": "e4160c5e-920c-4070-b150-9e0678b6b13c",
   "metadata": {},
   "outputs": [
    {
     "data": {
      "text/plain": [
       "(57650, 4)"
      ]
     },
     "execution_count": 7,
     "metadata": {},
     "output_type": "execute_result"
    }
   ],
   "source": [
    "df.shape"
   ]
  },
  {
   "cell_type": "code",
   "execution_count": 9,
   "id": "02468824-5f01-4d55-8b5a-e958786abdfa",
   "metadata": {},
   "outputs": [],
   "source": [
    "df= df.sample(n=5000).drop('link',axis=1).reset_index(drop=True)"
   ]
  },
  {
   "cell_type": "code",
   "execution_count": 11,
   "id": "3024095e-b1c8-495f-bb7c-969300c01b2f",
   "metadata": {},
   "outputs": [],
   "source": [
    "# Cleaning\n"
   ]
  },
  {
   "cell_type": "code",
   "execution_count": 14,
   "id": "d1937db2-35da-48fb-b86e-bf4e903aeea4",
   "metadata": {},
   "outputs": [],
   "source": [
    "df['text']=df['text'].str.lower().replace(r'[^\\w\\s]','').replace(r'\\n','',regex=True)"
   ]
  },
  {
   "cell_type": "code",
   "execution_count": 15,
   "id": "55a40dda-390d-4256-96a6-932285561174",
   "metadata": {},
   "outputs": [
    {
     "data": {
      "text/plain": [
       "\"mommy told me she has everything i want  mommy told me that i should not worry 'bout nothing else  mommy told me that i can't do what i want  mommy told me  but she's only thinking about herself  can  i'm thinking about myself  time to leave and it's just as well  'cause i can't help thinking there's something else  wildlife  so i told he that i must have something more than she offered  and she should not worry about my health  i'm a big boy, not her little boy no more  i'm a big boy and i must learn how to protect myself  hold my own when they give me hell  she can worry about herself  tiny eagles must leave their nest  wild horses withstand the test  old lovers become estranged  little boys who can't help but change  could be nothing but who can tell\""
      ]
     },
     "execution_count": 15,
     "metadata": {},
     "output_type": "execute_result"
    }
   ],
   "source": [
    "df['text'][0]"
   ]
  },
  {
   "cell_type": "code",
   "execution_count": 22,
   "id": "85e9929e-738a-4a1b-90bf-0f50d3b30970",
   "metadata": {},
   "outputs": [
    {
     "name": "stderr",
     "output_type": "stream",
     "text": [
      "[nltk_data] Downloading package punkt to\n",
      "[nltk_data]     C:\\Users\\dhruv\\AppData\\Roaming\\nltk_data...\n",
      "[nltk_data]   Unzipping tokenizers\\punkt.zip.\n"
     ]
    }
   ],
   "source": [
    "import nltk\n",
    "nltk.download('punkt')\n",
    "from nltk.stem.porter import PorterStemmer\n",
    "\n",
    "ps= PorterStemmer()\n",
    "\n",
    "def tokenization(txt):\n",
    "    tokens =  nltk.word_tokenize(txt)\n",
    "    stemming = [ps.stem(w) for w in tokens]\n",
    "\n",
    "    return \" \".join(stemming)"
   ]
  },
  {
   "cell_type": "code",
   "execution_count": 23,
   "id": "4c26689d-424c-4f6f-b983-6ebacd29e759",
   "metadata": {},
   "outputs": [],
   "source": [
    "df['text'] = df['text'].apply(lambda x: tokenization(x))"
   ]
  },
  {
   "cell_type": "code",
   "execution_count": 25,
   "id": "e3a5300f-e832-4c6b-94ba-23621c245d28",
   "metadata": {},
   "outputs": [
    {
     "data": {
      "text/plain": [
       "0       mommi told me she ha everyth i want mommi told...\n",
       "1       if it 's love that you 're run from there is n...\n",
       "2       the first time ever i saw your face i thought ...\n",
       "3       there wa a time when i would have follow you t...\n",
       "4       sometim i wonder what thi old world 's comin '...\n",
       "                              ...                        \n",
       "4995    i close my eye and pictur the emerald of the s...\n",
       "4996    miracl happen , you know miracl happen . mirac...\n",
       "4997    i think , i understand the reason you wo n't s...\n",
       "4998    and everi time i get to think everi thought of...\n",
       "4999    it 's time to face the music tonight i came to...\n",
       "Name: text, Length: 5000, dtype: object"
      ]
     },
     "execution_count": 25,
     "metadata": {},
     "output_type": "execute_result"
    }
   ],
   "source": [
    "df['text']"
   ]
  },
  {
   "cell_type": "code",
   "execution_count": 27,
   "id": "afb67dc3-244c-4d13-abe0-e3346d743910",
   "metadata": {},
   "outputs": [],
   "source": [
    "from sklearn.feature_extraction.text import TfidfVectorizer\n",
    "from sklearn.metrics.pairwise import cosine_similarity\n",
    "\n",
    "tfid = TfidfVectorizer(stop_words='english')\n",
    "matrix= tfid.fit_transform(df['text'])"
   ]
  },
  {
   "cell_type": "code",
   "execution_count": 28,
   "id": "3b12fa99-3c21-413f-84f6-808faec83189",
   "metadata": {},
   "outputs": [
    {
     "data": {
      "text/plain": [
       "(5000, 17629)"
      ]
     },
     "execution_count": 28,
     "metadata": {},
     "output_type": "execute_result"
    }
   ],
   "source": [
    "matrix.shape"
   ]
  },
  {
   "cell_type": "code",
   "execution_count": 29,
   "id": "1f05533d-1893-4434-ac67-046feeaee07d",
   "metadata": {},
   "outputs": [],
   "source": [
    "similarity = cosine_similarity(matrix)"
   ]
  },
  {
   "cell_type": "code",
   "execution_count": 30,
   "id": "b60b31f0-bec2-45aa-9f09-315dc8a2e3bf",
   "metadata": {},
   "outputs": [
    {
     "data": {
      "text/plain": [
       "array([[1.        , 0.03167293, 0.01198035, ..., 0.09973911, 0.06016825,\n",
       "        0.01152872],\n",
       "       [0.03167293, 1.        , 0.09025957, ..., 0.07254919, 0.03894609,\n",
       "        0.08086269],\n",
       "       [0.01198035, 0.09025957, 1.        , ..., 0.00459926, 0.08878237,\n",
       "        0.09629541],\n",
       "       ...,\n",
       "       [0.09973911, 0.07254919, 0.00459926, ..., 1.        , 0.09336894,\n",
       "        0.06220653],\n",
       "       [0.06016825, 0.03894609, 0.08878237, ..., 0.09336894, 1.        ,\n",
       "        0.06620244],\n",
       "       [0.01152872, 0.08086269, 0.09629541, ..., 0.06220653, 0.06620244,\n",
       "        1.        ]])"
      ]
     },
     "execution_count": 30,
     "metadata": {},
     "output_type": "execute_result"
    }
   ],
   "source": [
    "similarity"
   ]
  },
  {
   "cell_type": "code",
   "execution_count": 31,
   "id": "f76cef81-b683-4994-8550-09f09d394a13",
   "metadata": {},
   "outputs": [],
   "source": [
    "def recommendation(song):\n",
    "    idx= df[df['song']==song].index[0]\n",
    "    distances=sorted(list(enumerate(similarity[idx])),reverse=False,key=lambda x:x[1])\n",
    "\n",
    "    songs=[]\n",
    "    for i in distances[1:21]:\n",
    "        songs.append(df.iloc[i[0]].song)\n",
    "    return songs   "
   ]
  },
  {
   "cell_type": "code",
   "execution_count": 32,
   "id": "ddf0c5ac-3041-4dac-a650-cd478e56f620",
   "metadata": {},
   "outputs": [
    {
     "data": {
      "text/plain": [
       "'Wildlife'"
      ]
     },
     "execution_count": 32,
     "metadata": {},
     "output_type": "execute_result"
    }
   ],
   "source": [
    "df['song'][0]"
   ]
  },
  {
   "cell_type": "code",
   "execution_count": 34,
   "id": "9667e3b9-4a43-40d2-b960-b3f3bd644c41",
   "metadata": {},
   "outputs": [
    {
     "data": {
      "text/plain": [
       "['The First Time Ever I Saw Your Face',\n",
       " 'Still Crazy After All These Years',\n",
       " 'Stronger Than Death',\n",
       " 'Running Free',\n",
       " 'Thinking About You',\n",
       " 'Hopeless',\n",
       " 'Killer',\n",
       " 'Look At You',\n",
       " 'Are You There',\n",
       " 'God Am',\n",
       " 'Wild Wine',\n",
       " 'Walter Whitman Where Are You',\n",
       " \"I Just Can't Wait\",\n",
       " 'Hush, Little Baby',\n",
       " 'End Of The Line',\n",
       " 'Moonlight',\n",
       " 'Egyptian Song',\n",
       " 'Where I End And You Begin',\n",
       " 'Prisoner Of Love',\n",
       " 'Under A Glass Moon']"
      ]
     },
     "execution_count": 34,
     "metadata": {},
     "output_type": "execute_result"
    }
   ],
   "source": [
    "recommendation('Another Man')\n"
   ]
  },
  {
   "cell_type": "code",
   "execution_count": 46,
   "id": "f94e5bec-2fda-40fc-9b42-64c33712e682",
   "metadata": {},
   "outputs": [],
   "source": [
    "import pickle\n",
    "\n",
    "with open('df.pkl', 'wb') as file:\n",
    "    pickle.dump(df, file)\n",
    "\n",
    "with open('similarity.pkl', 'wb') as file:\n",
    "    pickle.dump(similarity, file)"
   ]
  },
  {
   "cell_type": "code",
   "execution_count": null,
   "id": "f451932e-baf1-4a2c-9104-9bfa4422a55a",
   "metadata": {},
   "outputs": [],
   "source": []
  },
  {
   "cell_type": "code",
   "execution_count": null,
   "id": "88580083-76a6-4665-961b-7dd9baf30d25",
   "metadata": {},
   "outputs": [],
   "source": []
  },
  {
   "cell_type": "code",
   "execution_count": null,
   "id": "1131a4f7-551f-4f49-83e8-fbbcf7ee338e",
   "metadata": {},
   "outputs": [],
   "source": []
  }
 ],
 "metadata": {
  "kernelspec": {
   "display_name": "Python 3 (ipykernel)",
   "language": "python",
   "name": "python3"
  },
  "language_info": {
   "codemirror_mode": {
    "name": "ipython",
    "version": 3
   },
   "file_extension": ".py",
   "mimetype": "text/x-python",
   "name": "python",
   "nbconvert_exporter": "python",
   "pygments_lexer": "ipython3",
   "version": "3.11.7"
  }
 },
 "nbformat": 4,
 "nbformat_minor": 5
}
